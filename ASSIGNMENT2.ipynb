{
 "cells": [
  {
   "cell_type": "code",
   "execution_count": null,
   "id": "f9a9a090-61be-4045-902a-5ec18dd5093c",
   "metadata": {},
   "outputs": [],
   "source": [
    "Q1. Which keyword is used to create a function? Create a function to return a list of odd numbers in the\n",
    "range of 1 to 25.\n",
    "ANS- In Python, the keyword used to create a function is def. Here's a Python function that returns a list of odd numbers in the range of 1 to 25:\n",
    "\n"
   ]
  },
  {
   "cell_type": "code",
   "execution_count": 2,
   "id": "b3a7cbc2-0532-4eef-acb9-17c8ff924218",
   "metadata": {},
   "outputs": [
    {
     "name": "stdout",
     "output_type": "stream",
     "text": [
      "[1, 3, 5, 7, 9, 11, 13, 15, 17, 19, 21, 23, 25]\n"
     ]
    }
   ],
   "source": [
    "def odd_numbers():\n",
    "    odd_list = []\n",
    "    for number in range(1, 26):\n",
    "        if number % 2 != 0:\n",
    "            odd_list.append(number)\n",
    "    return odd_list\n",
    "\n",
    "# Call the function and store the result in a variable\n",
    "result = odd_numbers()\n",
    "\n",
    "# Print the list of odd numbers\n",
    "print(result)"
   ]
  },
  {
   "cell_type": "code",
   "execution_count": null,
   "id": "727b12c0-ab89-4731-8596-87881e216452",
   "metadata": {},
   "outputs": [],
   "source": [
    "Q2. Why *args and **kwargs is used in some functions? Create a function each for *args and **kwargs\n",
    "to demonstrate their use.\n",
    "ANS-*args and **kwargs are used in Python functions to allow for a variable number of arguments to be passed to the function. They are often used when you want to create functions that can accept a different number of positional arguments (*args) and keyword arguments (**kwargs)."
   ]
  },
  {
   "cell_type": "code",
   "execution_count": 3,
   "id": "a2ed2593-dfd3-405f-86c7-805bef84f30a",
   "metadata": {},
   "outputs": [
    {
     "name": "stdout",
     "output_type": "stream",
     "text": [
      "15\n"
     ]
    }
   ],
   "source": [
    "#FUNCTION WITH ARGS\n",
    "def sum_args(*args):\n",
    "    total = 0\n",
    "    for arg in args:\n",
    "        total += arg\n",
    "    return total\n",
    "\n",
    "# Example usage:\n",
    "result = sum_args(1, 2, 3, 4, 5)\n",
    "print(result)  # Output: 15"
   ]
  },
  {
   "cell_type": "code",
   "execution_count": 4,
   "id": "76f1d6e0-22f1-4553-bf8c-e143f28bfd65",
   "metadata": {},
   "outputs": [
    {
     "name": "stdout",
     "output_type": "stream",
     "text": [
      "name: Alice\n",
      "age: 30\n",
      "city: New York\n"
     ]
    }
   ],
   "source": [
    "#FUNCTION WITH KWARGS\n",
    "def print_kwargs(**kwargs):\n",
    "    for key, value in kwargs.items():\n",
    "        print(f\"{key}: {value}\")\n",
    "\n",
    "# Example usage:\n",
    "print_kwargs(name=\"Alice\", age=30, city=\"New York\")\n",
    "\n",
    "# Output:\n",
    "# name: Alice\n",
    "# age: 30\n",
    "# city: New York"
   ]
  },
  {
   "cell_type": "code",
   "execution_count": null,
   "id": "fc0f9d1f-3ec8-420f-951f-89207c710069",
   "metadata": {},
   "outputs": [],
   "source": [
    "Q3. What is an iterator in python? Name the method used to initialise the iterator object and the method\n",
    "used for iteration. Use these methods to print the first five elements of the given list [2, 4, 6, 8, 10, 12, 14,\n",
    "16, 18, 20].\n",
    "ANS-In Python, an iterator is an object that represents a stream of data. It implements two methods, __iter__() and __next__(), which allow you to iterate over the elements of the stream one at a time. Here's how you can initialize an iterator object and use it for iteration:\n",
    "\n",
    "Initialization of the iterator object:\n",
    "\n",
    "You can initialize an iterator object by using the iter() function or by defining a class that implements the __iter__() and __next__() methods.\n",
    "Iteration using the iterator:\n",
    "\n",
    "You can iterate through the elements of the iterator using a loop, such as a for loop, and calling the __next__() method to fetch the next element until the iterator is exhausted. When there are no more elements to iterate over, the __next__() method should raise a StopIteration exception."
   ]
  },
  {
   "cell_type": "code",
   "execution_count": 5,
   "id": "dd543125-3870-4cd7-a1fc-eaa5d456e49a",
   "metadata": {},
   "outputs": [
    {
     "name": "stdout",
     "output_type": "stream",
     "text": [
      "2\n",
      "4\n",
      "6\n",
      "8\n",
      "10\n"
     ]
    }
   ],
   "source": [
    "# Define an iterator for the list\n",
    "my_list = [2, 4, 6, 8, 10, 12, 14, 16, 18, 20]\n",
    "my_iterator = iter(my_list)\n",
    "\n",
    "# Initialize a count for the first five elements\n",
    "count = 0\n",
    "\n",
    "# Iterate and print the first five elements\n",
    "while count < 5:\n",
    "    try:\n",
    "        element = next(my_iterator)\n",
    "        print(element)\n",
    "        count += 1\n",
    "    except StopIteration:\n",
    "        break"
   ]
  },
  {
   "cell_type": "code",
   "execution_count": null,
   "id": "51d839e9-cfa8-4135-8fee-267d5fc9ce3c",
   "metadata": {},
   "outputs": [],
   "source": [
    "Q4. What is a generator function in python? Why yield keyword is used? Give an example of a generator\n",
    "function.\n",
    "ANS-A generator function in Python is a special type of function that allows you to create iterators in a more concise and memory-efficient way. Generator functions use the yield keyword to yield values one at a time, allowing you to iterate over a potentially large or infinite sequence of values without storing them all in memory simultaneously.\n",
    "Here's why the yield keyword is used in generator functions:\n",
    "\n",
    "Lazy Evaluation: Generator functions use lazy evaluation, which means that values are generated and yielded one at a time as they are needed, rather than generating and storing the entire sequence in memory. This can be very memory-efficient, especially when dealing with large datasets."
   ]
  },
  {
   "cell_type": "code",
   "execution_count": 6,
   "id": "09209f73-5f6a-44cb-84b7-767f3ff7fec8",
   "metadata": {},
   "outputs": [
    {
     "name": "stdout",
     "output_type": "stream",
     "text": [
      "1\n",
      "4\n",
      "9\n",
      "16\n",
      "25\n"
     ]
    }
   ],
   "source": [
    "def square_numbers(limit):\n",
    "    n = 1\n",
    "    while n <= limit:\n",
    "        yield n * n\n",
    "        n += 1\n",
    "\n",
    "# Create a generator object\n",
    "my_generator = square_numbers(5)\n",
    "\n",
    "# Iterate and print the squares\n",
    "for square in my_generator:\n",
    "    print(square)"
   ]
  },
  {
   "cell_type": "code",
   "execution_count": null,
   "id": "e39a2a42-9425-4318-ba56-a705385d421e",
   "metadata": {},
   "outputs": [
    {
     "ename": "SyntaxError",
     "evalue": "invalid syntax (2762315167.py, line 2)",
     "output_type": "error",
     "traceback": [
      "\u001b[0;36m  Cell \u001b[0;32mIn[7], line 2\u001b[0;36m\u001b[0m\n\u001b[0;31m    first 20 prime numbers.\u001b[0m\n\u001b[0m          ^\u001b[0m\n\u001b[0;31mSyntaxError\u001b[0m\u001b[0;31m:\u001b[0m invalid syntax\n"
     ]
    }
   ],
   "source": [
    "##Q5. Create a generator function for prime numbers less than 1000. Use the next() method to print the\n",
    "first 20 prime numbers.\n",
    "##ANS-You can create a generator function to yield prime numbers less than 1000 and use the next() method to print the first 20 prime numbers.\n",
    "def is_prime(num):\n",
    "    if num < 2:\n",
    "        return False\n",
    "    for i in range(2, int(num**0.5) + 1):\n",
    "        if num % i == 0:\n",
    "            return False\n",
    "    return True\n",
    "\n",
    "def prime_generator(limit):\n",
    "    num = 2\n",
    "    count = 0\n",
    "    while count < limit:\n",
    "        if is_prime(num):\n",
    "            yield num\n",
    "            count += 1\n",
    "        num += 1\n",
    "\n",
    "# Create a generator object for prime numbers less than 1000\n",
    "prime_gen = prime_generator(20)\n",
    "\n",
    "# Use the next() method to print the first 20 prime numbers\n",
    "for _ in range(20):\n",
    "    print(next(prime_gen))\n"
   ]
  },
  {
   "cell_type": "code",
   "execution_count": 8,
   "id": "ac6d1a5e-599b-4693-af2f-5dabae10b488",
   "metadata": {},
   "outputs": [
    {
     "name": "stdout",
     "output_type": "stream",
     "text": [
      "0\n",
      "1\n",
      "1\n",
      "2\n",
      "3\n",
      "5\n",
      "8\n",
      "13\n",
      "21\n",
      "34\n"
     ]
    }
   ],
   "source": [
    "##Q6. Write a python program to print the first 10 Fibonacci numbers using a while loop.\n",
    "# Initialize variables to store the first two Fibonacci numbers\n",
    "fibonacci_sequence = [0, 1]\n",
    "\n",
    "# Initialize a counter to keep track of the number of Fibonacci numbers generated\n",
    "count = 2\n",
    "\n",
    "# Use a while loop to generate the first 10 Fibonacci numbers\n",
    "while count < 10:\n",
    "    next_fibonacci = fibonacci_sequence[-1] + fibonacci_sequence[-2]\n",
    "    fibonacci_sequence.append(next_fibonacci)\n",
    "    count += 1\n",
    "\n",
    "# Print the first 10 Fibonacci numbers\n",
    "for num in fibonacci_sequence:\n",
    "    print(num)"
   ]
  },
  {
   "cell_type": "code",
   "execution_count": null,
   "id": "bffd0a93-41db-4c01-89dd-5547347fa551",
   "metadata": {},
   "outputs": [],
   "source": [
    "Q7. Write a List Comprehension to iterate through the given string: ‘pwskills’.\n",
    "Expected output: ['p', 'w', 's', 'k', 'i', 'l', 'l', 's']"
   ]
  },
  {
   "cell_type": "code",
   "execution_count": 9,
   "id": "19a08916-aa42-48bb-ac53-eda45abb402f",
   "metadata": {},
   "outputs": [
    {
     "name": "stdout",
     "output_type": "stream",
     "text": [
      "['p', 'w', 's', 'k', 'i', 'l', 'l', 's']\n"
     ]
    }
   ],
   "source": [
    "input_string = 'pwskills'\n",
    "output_list = [char for char in input_string]\n",
    "print(output_list)"
   ]
  },
  {
   "cell_type": "code",
   "execution_count": null,
   "id": "50aa6092-48e5-4521-8892-179432c0d4ed",
   "metadata": {},
   "outputs": [],
   "source": [
    "Q8. Write a python program to check whether a given number is Palindrome or not using a while loop."
   ]
  },
  {
   "cell_type": "code",
   "execution_count": 10,
   "id": "cf44dc6a-01c7-4a5c-95ce-266f9d687b41",
   "metadata": {},
   "outputs": [
    {
     "name": "stdin",
     "output_type": "stream",
     "text": [
      "Enter a number:  25\n"
     ]
    },
    {
     "name": "stdout",
     "output_type": "stream",
     "text": [
      "25 is not a palindrome.\n"
     ]
    }
   ],
   "source": [
    "def is_palindrome(number):\n",
    "    original_number = number\n",
    "    reversed_number = 0\n",
    "\n",
    "    while number > 0:\n",
    "        digit = number % 10\n",
    "        reversed_number = reversed_number * 10 + digit\n",
    "        number //= 10\n",
    "\n",
    "    return original_number == reversed_number\n",
    "\n",
    "# Input a number from the user\n",
    "try:\n",
    "    num = int(input(\"Enter a number: \"))\n",
    "\n",
    "    if is_palindrome(num):\n",
    "        print(f\"{num} is a palindrome.\")\n",
    "    else:\n",
    "        print(f\"{num} is not a palindrome.\")\n",
    "except ValueError:\n",
    "    print(\"Invalid input. Please enter a valid number.\")"
   ]
  },
  {
   "cell_type": "code",
   "execution_count": null,
   "id": "666e7c7a-d092-45c8-ad95-2938bb7957b5",
   "metadata": {},
   "outputs": [],
   "source": [
    "Q9. Write a code to print odd numbers from 1 to 100 using list comprehension."
   ]
  },
  {
   "cell_type": "code",
   "execution_count": 11,
   "id": "0034161b-3a26-4b55-81c9-87b555ddc412",
   "metadata": {},
   "outputs": [
    {
     "name": "stdout",
     "output_type": "stream",
     "text": [
      "[1, 3, 5, 7, 9, 11, 13, 15, 17, 19, 21, 23, 25, 27, 29, 31, 33, 35, 37, 39, 41, 43, 45, 47, 49, 51, 53, 55, 57, 59, 61, 63, 65, 67, 69, 71, 73, 75, 77, 79, 81, 83, 85, 87, 89, 91, 93, 95, 97, 99]\n"
     ]
    }
   ],
   "source": [
    "# Generate a list of numbers from 1 to 100\n",
    "numbers = [x for x in range(1, 101)]\n",
    "\n",
    "# Use another list comprehension to filter out odd numbers\n",
    "odd_numbers = [x for x in numbers if x % 2 != 0]\n",
    "\n",
    "# Print the list of odd numbers\n",
    "print(odd_numbers)"
   ]
  },
  {
   "cell_type": "code",
   "execution_count": null,
   "id": "586d963c-d113-4bc5-9ab6-d3934350f023",
   "metadata": {},
   "outputs": [],
   "source": []
  }
 ],
 "metadata": {
  "kernelspec": {
   "display_name": "Python 3 (ipykernel)",
   "language": "python",
   "name": "python3"
  },
  "language_info": {
   "codemirror_mode": {
    "name": "ipython",
    "version": 3
   },
   "file_extension": ".py",
   "mimetype": "text/x-python",
   "name": "python",
   "nbconvert_exporter": "python",
   "pygments_lexer": "ipython3",
   "version": "3.10.8"
  }
 },
 "nbformat": 4,
 "nbformat_minor": 5
}
